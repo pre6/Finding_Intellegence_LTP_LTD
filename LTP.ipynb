{
 "cells": [
  {
   "cell_type": "markdown",
   "id": "f3bcf00f-4bf4-482d-b56b-4d8db961c4c2",
   "metadata": {},
   "source": [
    "# Simulating intelligence\n",
    "\n",
    "\n",
    "The overall goal is to create a learning system that learns with no indication of the outcome. No target output and no reward function. Just unstructured data and trying to categorize it. I am borrowing ideas from long term potentiation and long term depression in neurons in learning.\n",
    "\n",
    "I am hoping to find that there is a natural categorization of two different types of input using natural phenomenons in biology\n",
    "\n",
    "## 1. create the input"
   ]
  },
  {
   "cell_type": "code",
   "execution_count": 2,
   "id": "63581e6e-3cc7-4b5e-8743-c5a7cd1560c1",
   "metadata": {},
   "outputs": [
    {
     "name": "stdout",
     "output_type": "stream",
     "text": [
      "[[1 0 0 0]\n",
      " [1 0 0 0]\n",
      " [1 0 0 0]\n",
      " [1 0 0 0]]\n"
     ]
    }
   ],
   "source": [
    "import numpy as np\n",
    "\n",
    "# Create a 4x4 matrix with 1s and 0s\n",
    "matrix = np.array([[1, 0, 0, 0],\n",
    "                   [1, 0, 0, 0],\n",
    "                   [1, 0, 0, 0],\n",
    "                   [1, 0, 0, 0]])\n",
    "\n",
    "print(matrix)"
   ]
  },
  {
   "cell_type": "markdown",
   "id": "90612a83-2508-41cd-9502-5d5d782a486a",
   "metadata": {},
   "source": [
    "## create 2x2 filter"
   ]
  },
  {
   "cell_type": "code",
   "execution_count": 3,
   "id": "acf44b31-d081-4615-9f76-697904f8898c",
   "metadata": {},
   "outputs": [
    {
     "name": "stdout",
     "output_type": "stream",
     "text": [
      "[[0.76724872 0.49596287]\n",
      " [0.25436204 0.9674283 ]]\n"
     ]
    }
   ],
   "source": [
    "import numpy as np\n",
    "\n",
    "# Create a 2x2 filter with random numbers\n",
    "filter_matrix = np.random.rand(2, 2)\n",
    "\n",
    "print(filter_matrix)\n"
   ]
  },
  {
   "cell_type": "markdown",
   "id": "cf38f72c-5039-41d0-9dcf-7bbade6e0d33",
   "metadata": {},
   "source": [
    "these are the weights"
   ]
  }
 ],
 "metadata": {
  "kernelspec": {
   "display_name": "Python 3 (ipykernel)",
   "language": "python",
   "name": "python3"
  },
  "language_info": {
   "codemirror_mode": {
    "name": "ipython",
    "version": 3
   },
   "file_extension": ".py",
   "mimetype": "text/x-python",
   "name": "python",
   "nbconvert_exporter": "python",
   "pygments_lexer": "ipython3",
   "version": "3.11.5"
  }
 },
 "nbformat": 4,
 "nbformat_minor": 5
}
