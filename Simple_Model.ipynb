{
 "cells": [
  {
   "cell_type": "markdown",
   "id": "89d46cc4-960e-43a7-acb0-6ecad3281217",
   "metadata": {},
   "source": [
    "# 1. Input: "
   ]
  },
  {
   "cell_type": "code",
   "execution_count": 5,
   "id": "13668aa5-74ed-4bf9-83b5-4a741d514feb",
   "metadata": {},
   "outputs": [
    {
     "name": "stdout",
     "output_type": "stream",
     "text": [
      "Stripe 1:\n",
      "[[1. 1. 1. 1.]\n",
      " [0. 0. 0. 0.]\n",
      " [0. 0. 0. 0.]\n",
      " [0. 0. 0. 0.]]\n",
      "\n",
      "Stripe 2:\n",
      "[[0. 0. 0. 0.]\n",
      " [1. 1. 1. 1.]\n",
      " [0. 0. 0. 0.]\n",
      " [0. 0. 0. 0.]]\n",
      "\n",
      "Stripe 3:\n",
      "[[0. 0. 0. 0.]\n",
      " [0. 0. 0. 0.]\n",
      " [1. 1. 1. 1.]\n",
      " [0. 0. 0. 0.]]\n",
      "\n",
      "Stripe 4:\n",
      "[[0. 0. 0. 0.]\n",
      " [0. 0. 0. 0.]\n",
      " [0. 0. 0. 0.]\n",
      " [1. 1. 1. 1.]]\n",
      "\n",
      "Stripe 5:\n",
      "[[1. 0. 0. 0.]\n",
      " [1. 0. 0. 0.]\n",
      " [1. 0. 0. 0.]\n",
      " [1. 0. 0. 0.]]\n",
      "\n",
      "Stripe 6:\n",
      "[[0. 1. 0. 0.]\n",
      " [0. 1. 0. 0.]\n",
      " [0. 1. 0. 0.]\n",
      " [0. 1. 0. 0.]]\n",
      "\n",
      "Stripe 7:\n",
      "[[0. 0. 1. 0.]\n",
      " [0. 0. 1. 0.]\n",
      " [0. 0. 1. 0.]\n",
      " [0. 0. 1. 0.]]\n",
      "\n",
      "Stripe 8:\n",
      "[[0. 0. 0. 1.]\n",
      " [0. 0. 0. 1.]\n",
      " [0. 0. 0. 1.]\n",
      " [0. 0. 0. 1.]]\n",
      "\n"
     ]
    }
   ],
   "source": [
    "import numpy as np\n",
    "import matplotlib.pyplot as plt\n",
    "def generate_all_possible_stripes(size):\n",
    "    \"\"\"\n",
    "    Generates all possible matrices where one row or one column is entirely 1s.\n",
    "    \n",
    "    Parameters:\n",
    "    - size: Tuple indicating the size of the matrix (height, width).\n",
    "    \n",
    "    Returns:\n",
    "    - stripe_matrices: A list of numpy arrays representing all possible striped matrices.\n",
    "    \"\"\"\n",
    "    stripe_matrices = []\n",
    "\n",
    "    # Generate matrices with one row filled with 1s\n",
    "    for i in range(size[0]):\n",
    "        matrix = np.zeros(size)\n",
    "        matrix[i, :] = 1\n",
    "        stripe_matrices.append(matrix)\n",
    "\n",
    "    # Generate matrices with one column filled with 1s\n",
    "    for j in range(size[1]):\n",
    "        matrix = np.zeros(size)\n",
    "        matrix[:, j] = 1\n",
    "        stripe_matrices.append(matrix)\n",
    "\n",
    "    return stripe_matrices\n",
    "\n",
    "# Example usage\n",
    "all_stripes = generate_all_possible_stripes((4, 4))\n",
    "\n",
    "# Display the generated matrices\n",
    "for i, stripe in enumerate(all_stripes):\n",
    "    print(f\"Stripe {i+1}:\\n{stripe}\\n\")\n"
   ]
  },
  {
   "cell_type": "code",
   "execution_count": 7,
   "id": "4f9082ca-52ed-443f-b45f-4361620023e2",
   "metadata": {},
   "outputs": [
    {
     "data": {
      "image/png": "[encoded data removed]",
      "text/plain": [
       "<Figure size 200x200 with 1 Axes>"
      ]
     },
     "metadata": {},
     "output_type": "display_data"
    },
    {
     "name": "stdout",
     "output_type": "stream",
     "text": [
      "Final Output for Stripe 1: 0.6909831980218556\n",
      "\n"
     ]
    },
    {
     "data": {
      "image/png": "[encoded data removed]",
      "text/plain": [
       "<Figure size 200x200 with 1 Axes>"
      ]
     },
     "metadata": {},
     "output_type": "display_data"
    },
    {
     "name": "stdout",
     "output_type": "stream",
     "text": [
      "Final Output for Stripe 2: 2.3844908729034175\n",
      "\n"
     ]
    },
    {
     "data": {
      "image/png": "[encoded data removed]",
      "text/plain": [
       "<Figure size 200x200 with 1 Axes>"
      ]
     },
     "metadata": {},
     "output_type": "display_data"
    },
    {
     "name": "stdout",
     "output_type": "stream",
     "text": [
      "Final Output for Stripe 3: 5.442292083728651\n",
      "\n"
     ]
    },
    {
     "data": {
      "image/png": "[encoded data removed]",
      "text/plain": [
       "<Figure size 200x200 with 1 Axes>"
      ]
     },
     "metadata": {},
     "output_type": "display_data"
    },
    {
     "name": "stdout",
     "output_type": "stream",
     "text": [
      "Final Output for Stripe 4: 1.5614635760098983\n",
      "\n"
     ]
    },
    {
     "data": {
      "image/png": "[encoded data removed]",
      "text/plain": [
       "<Figure size 200x200 with 1 Axes>"
      ]
     },
     "metadata": {},
     "output_type": "display_data"
    },
    {
     "name": "stdout",
     "output_type": "stream",
     "text": [
      "Final Output for Stripe 5: 1.1329384499091941\n",
      "\n"
     ]
    },
    {
     "data": {
      "image/png": "[encoded data removed]",
      "text/plain": [
       "<Figure size 200x200 with 1 Axes>"
      ]
     },
     "metadata": {},
     "output_type": "display_data"
    },
    {
     "name": "stdout",
     "output_type": "stream",
     "text": [
      "Final Output for Stripe 6: 6.1566072053202\n",
      "\n"
     ]
    },
    {
     "data": {
      "image/png": "[encoded data removed]",
      "text/plain": [
       "<Figure size 200x200 with 1 Axes>"
      ]
     },
     "metadata": {},
     "output_type": "display_data"
    },
    {
     "name": "stdout",
     "output_type": "stream",
     "text": [
      "Final Output for Stripe 7: 6.625455686744012\n",
      "\n"
     ]
    },
    {
     "data": {
      "image/png": "[encoded data removed]",
      "text/plain": [
       "<Figure size 200x200 with 1 Axes>"
      ]
     },
     "metadata": {},
     "output_type": "display_data"
    },
    {
     "name": "stdout",
     "output_type": "stream",
     "text": [
      "Final Output for Stripe 8: 3.633464977860246\n",
      "\n"
     ]
    }
   ],
   "source": [
    "import numpy as np\n",
    "import matplotlib.pyplot as plt\n",
    "\n",
    "# Convolution function (slightly adjusted for multiple layers)\n",
    "def convolve(input_image, filters):\n",
    "    output_size = input_image.shape[0] - 1\n",
    "    output = np.zeros((output_size, output_size))\n",
    "    for i in range(output_size):\n",
    "        for j in range(output_size):\n",
    "            region = input_image[i:i+2, j:j+2]\n",
    "            output[i, j] = np.sum(region * filters[i, j])\n",
    "    return output\n",
    "\n",
    "# Function to generate all possible stripe inputs\n",
    "def generate_all_possible_stripes(size):\n",
    "    stripe_matrices = []\n",
    "    for i in range(size[0]):\n",
    "        matrix = np.zeros(size)\n",
    "        matrix[i, :] = 1\n",
    "        stripe_matrices.append(matrix)\n",
    "    for j in range(size[1]):\n",
    "        matrix = np.zeros(size)\n",
    "        matrix[:, j] = 1\n",
    "        stripe_matrices.append(matrix)\n",
    "    return stripe_matrices\n",
    "\n",
    "# Function to update weights based on activation history\n",
    "def update_weights(filters, activation_history, learning_rate):\n",
    "    new_filters = np.copy(filters)\n",
    "    for i in range(filters.shape[0]):\n",
    "        for j in range(filters.shape[1]):\n",
    "            recent_activations = activation_history[i, j, -5:]\n",
    "            avg_activation = np.mean(recent_activations)\n",
    "            max_activation = np.max(recent_activations)\n",
    "            if max_activation > high_intensity_threshold:\n",
    "                new_filters[i, j] += learning_rate * filters[i, j]\n",
    "            elif avg_activation < low_intensity_threshold:\n",
    "                new_filters[i, j] -= learning_rate * filters[i, j]\n",
    "    return new_filters\n",
    "\n",
    "# Generate all possible stripe inputs\n",
    "stripe_inputs = generate_all_possible_stripes((4, 4))\n",
    "\n",
    "# Initialize filters and activation history for three layers\n",
    "filters_1 = np.random.rand(3, 3, 2, 2)\n",
    "filters_2 = np.random.rand(2, 2, 2, 2)\n",
    "filters_3 = np.random.rand(1, 1, 2, 2)\n",
    "\n",
    "activation_history_1 = np.zeros((3, 3, 10))\n",
    "activation_history_2 = np.zeros((2, 2, 10))\n",
    "activation_history_3 = np.zeros((1, 1, 10))\n",
    "\n",
    "# Parameters for weight update rule\n",
    "high_intensity_threshold = 0.8\n",
    "low_intensity_threshold = 0.2\n",
    "learning_rate = 0.01\n",
    "time_steps = 10\n",
    "\n",
    "# Function to display the input as a grid of numbers\n",
    "def display_input(input_image, title):\n",
    "    plt.figure(figsize=(2, 2))\n",
    "    plt.imshow(input_image, cmap='gray', vmin=0, vmax=1)\n",
    "    for i in range(input_image.shape[0]):\n",
    "        for j in range(input_image.shape[1]):\n",
    "            plt.text(j, i, int(input_image[i, j]), ha='center', va='center', color='black')\n",
    "    plt.title(title)\n",
    "    plt.xticks([])\n",
    "    plt.yticks([])\n",
    "    plt.show()\n",
    "\n",
    "# Process each stripe input through the CNN\n",
    "for index, input_image in enumerate(stripe_inputs):\n",
    "    display_input(input_image, f\"Stripe Input {index+1}\")\n",
    "    \n",
    "    for t in range(time_steps):\n",
    "        # Stage 1 Convolution (4x4 -> 3x3)\n",
    "        output_1 = convolve(input_image, filters_1)\n",
    "        activation_history_1 = np.roll(activation_history_1, -1, axis=2)\n",
    "        activation_history_1[:, :, -1] = output_1\n",
    "        filters_1 = update_weights(filters_1, activation_history_1, learning_rate)\n",
    "        \n",
    "        # Stage 2 Convolution (3x3 -> 2x2)\n",
    "        output_2 = convolve(output_1, filters_2)\n",
    "        activation_history_2 = np.roll(activation_history_2, -1, axis=2)\n",
    "        activation_history_2[:, :, -1] = output_2\n",
    "        filters_2 = update_weights(filters_2, activation_history_2, learning_rate)\n",
    "        \n",
    "        # Stage 3 Convolution (2x2 -> 1x1)\n",
    "        output_3 = convolve(output_2, filters_3)\n",
    "        activation_history_3 = np.roll(activation_history_3, -1, axis=2)\n",
    "        activation_history_3[:, :, -1] = output_3\n",
    "        filters_3 = update_weights(filters_3, activation_history_3, learning_rate)\n",
    "    \n",
    "    # Print the final single pixel output\n",
    "    print(f\"Final Output for Stripe {index+1}: {output_3[0, 0]}\\n\")\n",
    "\n",
    "    # Optionally, plot the last stage output (should be a single pixel)\n",
    "    # plt.imshow(output_3, cmap='gray')\n",
    "    # plt.title(f\"Final Single Pixel Output for Stripe {index+1}\")\n",
    "    # plt.colorbar()\n",
    "    # plt.show()\n"
   ]
  },
  {
   "cell_type": "markdown",
   "id": "1fb81a5a-445a-402d-8246-ee923c579c51",
   "metadata": {},
   "source": [
    "the idea is that there would be some function of the previous time steps that will change the weights such that it will organically learn about horizontal and verticle lines and categorize them accordingly."
   ]
  },
  {
   "cell_type": "code",
   "execution_count": null,
   "id": "0825f1a6-d2dc-4cc8-8727-9565c6eee876",
   "metadata": {},
   "outputs": [],
   "source": []
  }
 ],
 "metadata": {
  "kernelspec": {
   "display_name": "Python 3 (ipykernel)",
   "language": "python",
   "name": "python3"
  },
  "language_info": {
   "codemirror_mode": {
    "name": "ipython",
    "version": 3
   },
   "file_extension": ".py",
   "mimetype": "text/x-python",
   "name": "python",
   "nbconvert_exporter": "python",
   "pygments_lexer": "ipython3",
   "version": "3.11.5"
  }
 },
 "nbformat": 4,
 "nbformat_minor": 5
}
